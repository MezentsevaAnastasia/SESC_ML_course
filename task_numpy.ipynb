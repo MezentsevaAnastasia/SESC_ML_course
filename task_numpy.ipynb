{
 "cells": [
  {
   "cell_type": "markdown",
   "metadata": {
    "colab_type": "text",
    "id": "1zL9R4fiXHLM"
   },
   "source": [
    "# Семинар 4. NumPy\n",
    "\n",
    "При выполнении заданий не используйте циклы и условные операторы. \n",
    "Внизу есть подсказки, какие функции можно/нужно использовать в некоторых из заданий, чтобы не тратить время на их поиск."
   ]
  },
  {
   "cell_type": "markdown",
   "metadata": {
    "colab_type": "text",
    "id": "VYjev741XMcN"
   },
   "source": [
    "1. Создайте вектор, состоящий из нулей, длиной 10."
   ]
  },
  {
   "cell_type": "code",
   "execution_count": 0,
   "metadata": {
    "colab": {},
    "colab_type": "code",
    "id": "Tm4j-1qEXUQv"
   },
   "outputs": [],
   "source": [
    "#your code"
   ]
  },
  {
   "cell_type": "markdown",
   "metadata": {
    "colab_type": "text",
    "id": "8udUGXuJXZLN"
   },
   "source": [
    "2. Создайте вектор, состоящий из нулей, длиной 10, где 6-ым элементом будет 1."
   ]
  },
  {
   "cell_type": "code",
   "execution_count": 0,
   "metadata": {
    "colab": {},
    "colab_type": "code",
    "id": "acKL30ZbXd4i"
   },
   "outputs": [],
   "source": [
    "#your code"
   ]
  },
  {
   "cell_type": "markdown",
   "metadata": {
    "colab_type": "text",
    "id": "Br7JJmccXfqX"
   },
   "source": [
    "3. Создайте вектор длиной 10, заполненный числом 10,8."
   ]
  },
  {
   "cell_type": "code",
   "execution_count": 0,
   "metadata": {
    "colab": {},
    "colab_type": "code",
    "id": "oPpKXvsJXjMh"
   },
   "outputs": [],
   "source": [
    "#your code"
   ]
  },
  {
   "cell_type": "markdown",
   "metadata": {
    "colab_type": "text",
    "id": "szIfatLsXn5s"
   },
   "source": [
    "4. Создайте вектор со значениями от 21 до 35."
   ]
  },
  {
   "cell_type": "code",
   "execution_count": 0,
   "metadata": {
    "colab": {},
    "colab_type": "code",
    "id": "h1LFE2W1XpOq"
   },
   "outputs": [],
   "source": [
    "#your code"
   ]
  },
  {
   "cell_type": "markdown",
   "metadata": {
    "colab_type": "text",
    "id": "WrldVB5BXuN9"
   },
   "source": [
    "5. Переверните вектор (последнее значение становится первым и т.д.)."
   ]
  },
  {
   "cell_type": "code",
   "execution_count": 0,
   "metadata": {
    "colab": {},
    "colab_type": "code",
    "id": "kdcam5T4Xta-"
   },
   "outputs": [],
   "source": [
    "#your code"
   ]
  },
  {
   "cell_type": "markdown",
   "metadata": {
    "colab_type": "text",
    "id": "X76wPcwFX1FU"
   },
   "source": [
    "6. Из вектора длиной 9 создайте матрицу 3x3."
   ]
  },
  {
   "cell_type": "code",
   "execution_count": 0,
   "metadata": {
    "colab": {},
    "colab_type": "code",
    "id": "fIfDb8rrX3UE"
   },
   "outputs": [],
   "source": [
    "#your code"
   ]
  },
  {
   "cell_type": "markdown",
   "metadata": {
    "colab_type": "text",
    "id": "gDkVef16X7Wy"
   },
   "source": [
    "7. Создайте матрицу размерностью 3x3 и значениями от 1 до 9."
   ]
  },
  {
   "cell_type": "code",
   "execution_count": 0,
   "metadata": {
    "colab": {},
    "colab_type": "code",
    "id": "fLgDBLjrX841"
   },
   "outputs": [],
   "source": [
    "#your code"
   ]
  },
  {
   "cell_type": "markdown",
   "metadata": {
    "colab_type": "text",
    "id": "rsH67dSFYG-e"
   },
   "source": [
    "8. Найдите индексы ненулевых элементов в массиве `a`.\n"
   ]
  },
  {
   "cell_type": "code",
   "execution_count": 0,
   "metadata": {
    "colab": {},
    "colab_type": "code",
    "id": "m4GkHiaEYOOB"
   },
   "outputs": [],
   "source": [
    "a = np.array([1, 0, 0, 3, 4, 0])\n",
    "#your code"
   ]
  },
  {
   "cell_type": "markdown",
   "metadata": {
    "colab_type": "text",
    "id": "pMrFQsVZYcsw"
   },
   "source": [
    "9. Создайте массив 20x20 со случайными значениями и найдите наименьшее и наибольшее значения в нём."
   ]
  },
  {
   "cell_type": "code",
   "execution_count": 0,
   "metadata": {
    "colab": {},
    "colab_type": "code",
    "id": "N0uSEZGUYjqd"
   },
   "outputs": [],
   "source": [
    "#your code"
   ]
  },
  {
   "cell_type": "markdown",
   "metadata": {
    "colab_type": "text",
    "id": "moNKGoAaYmzo"
   },
   "source": [
    "10. Создайте вектор длиной 15 со случайными значениями и найдите индексы, содержащие наименьшее и наибольшее значения."
   ]
  },
  {
   "cell_type": "code",
   "execution_count": 0,
   "metadata": {
    "colab": {},
    "colab_type": "code",
    "id": "YPlERdbeYwUm"
   },
   "outputs": [],
   "source": [
    "#your code"
   ]
  },
  {
   "cell_type": "markdown",
   "metadata": {
    "colab_type": "text",
    "id": "HZJ2j17cY3nv"
   },
   "source": [
    "11. Создайте вектор со случайными значениями размерностью 30 и вычислите среднее значение."
   ]
  },
  {
   "cell_type": "code",
   "execution_count": 0,
   "metadata": {
    "colab": {},
    "colab_type": "code",
    "id": "WavvQJdlY8yt"
   },
   "outputs": [],
   "source": [
    "#your code"
   ]
  },
  {
   "cell_type": "markdown",
   "metadata": {
    "colab_type": "text",
    "id": "1IQ_5aG_ZAEd"
   },
   "source": [
    "12. Создайте вектор со случайными значениями размерностью 3х10 и вычислите отдельно среднее значение в каждой строке (размерность итогового массива 3х1) и в каждом столбце (размерность итогового массива 10x1)."
   ]
  },
  {
   "cell_type": "code",
   "execution_count": 0,
   "metadata": {
    "colab": {},
    "colab_type": "code",
    "id": "tefID2iZY_Yr"
   },
   "outputs": [],
   "source": [
    "#your code"
   ]
  },
  {
   "cell_type": "markdown",
   "metadata": {
    "colab_type": "text",
    "id": "f0FZM3oCZK9v"
   },
   "source": [
    "13. Добавьте границы (состоящие из нулей) вокруг существующего массива. В итоге должен получиться массив такого вида:\n",
    "\n",
    "``` \n",
    "00000\n",
    "01110\n",
    "01110\n",
    "00000\n",
    " ```"
   ]
  },
  {
   "cell_type": "code",
   "execution_count": 0,
   "metadata": {
    "colab": {},
    "colab_type": "code",
    "id": "ux03YRnwZdCl"
   },
   "outputs": [],
   "source": [
    "#your code"
   ]
  },
  {
   "cell_type": "markdown",
   "metadata": {
    "colab_type": "text",
    "id": "Vvo8v25AZkKD"
   },
   "source": [
    "14. Умножьте матрицу 5x3 на матрицу 3х2."
   ]
  },
  {
   "cell_type": "code",
   "execution_count": 0,
   "metadata": {
    "colab": {},
    "colab_type": "code",
    "id": "pqYsokZCZl_J"
   },
   "outputs": [],
   "source": [
    "#your code"
   ]
  },
  {
   "cell_type": "markdown",
   "metadata": {
    "colab_type": "text",
    "id": "4BJkjmgSZpci"
   },
   "source": [
    "15. Найдите общие значения двух массивов (элементы в их пересечении)."
   ]
  },
  {
   "cell_type": "code",
   "execution_count": 0,
   "metadata": {
    "colab": {},
    "colab_type": "code",
    "id": "YPzbPVnRZrN9"
   },
   "outputs": [],
   "source": [
    "#your code"
   ]
  },
  {
   "cell_type": "markdown",
   "metadata": {
    "colab_type": "text",
    "id": "_SsPWVspZuFS"
   },
   "source": [
    "16. Создайте вектор со случайными значениями длиной 10 и отсортируйте его."
   ]
  },
  {
   "cell_type": "code",
   "execution_count": 0,
   "metadata": {
    "colab": {},
    "colab_type": "code",
    "id": "Aos67m-oZxXm"
   },
   "outputs": [],
   "source": [
    "#your code"
   ]
  },
  {
   "cell_type": "markdown",
   "metadata": {
    "colab_type": "text",
    "id": "pvF2-2AGZ0qS"
   },
   "source": [
    "17. Создайте вектор со случайными значениями размерностью 10 и замените наибольшее значение нулём."
   ]
  },
  {
   "cell_type": "code",
   "execution_count": 0,
   "metadata": {
    "colab": {},
    "colab_type": "code",
    "id": "sL-JNslTZ389"
   },
   "outputs": [],
   "source": [
    "#your code"
   ]
  },
  {
   "cell_type": "markdown",
   "metadata": {
    "colab_type": "text",
    "id": "5R-wvp73Z6d_"
   },
   "source": [
    "18. Создайте матрицу 3х3 и “растяните” её в вектор (так, чтобы размерность стала 1х9) по крайней мере двумя способами.\n"
   ]
  },
  {
   "cell_type": "code",
   "execution_count": 0,
   "metadata": {
    "colab": {},
    "colab_type": "code",
    "id": "A_acCUK3aMn4"
   },
   "outputs": [],
   "source": [
    "#your code"
   ]
  },
  {
   "cell_type": "markdown",
   "metadata": {
    "colab_type": "text",
    "id": "H86sL5kbaNVX"
   },
   "source": [
    "19. Создайте матрицу 4х4 и вычтите максимальное значение из каждой строки в матрице."
   ]
  },
  {
   "cell_type": "code",
   "execution_count": 0,
   "metadata": {
    "colab": {},
    "colab_type": "code",
    "id": "Mf2QGutKaQV0"
   },
   "outputs": [],
   "source": [
    "#your code"
   ]
  },
  {
   "cell_type": "markdown",
   "metadata": {
    "colab_type": "text",
    "id": "E9nTmiNsaTwr"
   },
   "source": [
    "20. Считайте массив из текстового файла (предварительно его создав, элементы массива - числа с плавающей точкой (float)) и совершите над ним какую-либо операцию."
   ]
  },
  {
   "cell_type": "code",
   "execution_count": 0,
   "metadata": {
    "colab": {},
    "colab_type": "code",
    "id": "zwsrjJxvaXmR"
   },
   "outputs": [],
   "source": [
    "#your code"
   ]
  },
  {
   "cell_type": "markdown",
   "metadata": {},
   "source": [
    "21. Выяснить результат следующих выражений"
   ]
  },
  {
   "cell_type": "code",
   "execution_count": null,
   "metadata": {},
   "outputs": [],
   "source": [
    "0 * np.nan\n",
    "np.nan == np.nan\n",
    "np.inf > np.nan\n",
    "np.nan - np.nan\n",
    "np.nan in set([np.nan])\n",
    "0.3 == 3 * 0.1"
   ]
  },
  {
   "cell_type": "markdown",
   "metadata": {},
   "source": [
    "22. Найти ближайшее к заданному значению число в заданном массиве"
   ]
  },
  {
   "cell_type": "code",
   "execution_count": null,
   "metadata": {},
   "outputs": [],
   "source": [
    "# your code"
   ]
  },
  {
   "cell_type": "markdown",
   "metadata": {},
   "source": [
    "23. Сделать массив неизменяемым"
   ]
  },
  {
   "cell_type": "code",
   "execution_count": null,
   "metadata": {},
   "outputs": [],
   "source": [
    "# your code"
   ]
  },
  {
   "cell_type": "markdown",
   "metadata": {},
   "source": [
    "24. Проверить на равенство два массива A и B, получаемых случайными значениями."
   ]
  },
  {
   "cell_type": "code",
   "execution_count": null,
   "metadata": {},
   "outputs": [],
   "source": [
    "# your code"
   ]
  },
  {
   "cell_type": "markdown",
   "metadata": {},
   "source": [
    "25. Случайно расположить p элементов в 2D массив"
   ]
  },
  {
   "cell_type": "code",
   "execution_count": null,
   "metadata": {},
   "outputs": [],
   "source": [
    "# your code"
   ]
  },
  {
   "cell_type": "markdown",
   "metadata": {},
   "source": [
    "26. Поменять местами 2 строки в произвольной матрице"
   ]
  },
  {
   "cell_type": "code",
   "execution_count": null,
   "metadata": {},
   "outputs": [],
   "source": [
    "# your code"
   ]
  },
  {
   "cell_type": "markdown",
   "metadata": {},
   "source": [
    "27. Посчитать ранг матрицы"
   ]
  },
  {
   "cell_type": "code",
   "execution_count": null,
   "metadata": {},
   "outputs": [],
   "source": [
    "# your code"
   ]
  },
  {
   "cell_type": "markdown",
   "metadata": {},
   "source": [
    "28. Посчитать среднее, используя плавающее окно"
   ]
  },
  {
   "cell_type": "code",
   "execution_count": null,
   "metadata": {},
   "outputs": [],
   "source": [
    "# your code"
   ]
  },
  {
   "cell_type": "markdown",
   "metadata": {
    "colab_type": "text",
    "id": "r7ASlvEjabU7"
   },
   "source": [
    "\n",
    "\n",
    "---\n",
    "\n",
    "# Подсказки\n",
    "\n",
    "1. zeros\n",
    "3. full\n",
    "4. arange\n",
    "6. reshape\n",
    "8. nonzero\n",
    "9. Для создания массива со случайными значениями: np.random.random(shape), shape - размерность массива. Не забудьте, что если shape > 1, то размерности передаются в виде кортежа!\n",
    "10. argmax, argmin\n",
    "11. mean\n",
    "13. pad\n",
    "14. dot\n",
    "15. Инициализировать массивы можно функцией np.random.randint() - в качестве аргументов передайте свои значения. Пересечение - intersect1d\n",
    "16. sort\n",
    "18. Один способ - flatten, другой уже использовался в предыдущих заданиях.\n",
    "20. fromfile"
   ]
  }
 ],
 "metadata": {
  "colab": {
   "name": "Задание_numpy.ipynb",
   "provenance": [],
   "version": "0.3.2"
  },
  "kernelspec": {
   "display_name": "Python 3",
   "language": "python",
   "name": "python3"
  },
  "language_info": {
   "codemirror_mode": {
    "name": "ipython",
    "version": 3
   },
   "file_extension": ".py",
   "mimetype": "text/x-python",
   "name": "python",
   "nbconvert_exporter": "python",
   "pygments_lexer": "ipython3",
   "version": "3.7.4"
  }
 },
 "nbformat": 4,
 "nbformat_minor": 1
}
